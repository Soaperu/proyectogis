{
 "cells": [
  {
   "cell_type": "code",
   "execution_count": 5,
   "metadata": {},
   "outputs": [],
   "source": [
    "import arcpy\n",
    "fc = r'D:\\2022\\OS_SETIEMBRE\\E01_04102022\\data\\e96db372-8d2d-4905-a021-a38077e0e04a.gdb\\MUESTRA_LBA'"
   ]
  },
  {
   "cell_type": "code",
   "execution_count": 6,
   "metadata": {},
   "outputs": [],
   "source": [
    "fields = arcpy.ListFields(fc)"
   ]
  },
  {
   "cell_type": "code",
   "execution_count": 8,
   "metadata": {},
   "outputs": [
    {
     "name": "stdout",
     "output_type": "stream",
     "text": [
      "(u'MUESTRA', u'cvd_MUESTRA')\n",
      "(u'TIPOFUENTE', u'cvd_TIPOFUENTE')\n",
      "(u'PARAMETROFISICOQUIM', u'cvd_PARAMETROFISICOQUIM')\n",
      "(u'UNIDAD_GEOL', u'cvd_UNIDAD_GEOL')\n",
      "(u'PENDIENTE', u'cvd_PENDIENTE')\n",
      "(u'USO_DE_AGUA', u'cvd_USO_DE_AGUA')\n",
      "(u'BASURALES', u'cvd_BASURALES')\n",
      "(u'ANIMALES', u'cvd_ANIMALES')\n",
      "(u'LETRINAS', u'cvd_LETRINAS')\n",
      "(u'POBLACION', u'cvd_POBLACION')\n",
      "(u'PASIVOAMBIENTAL', u'cvd_PASIVOAMBIENTAL')\n",
      "(u'ACT_ANTROPICA', u'cvd_ACT_ANTROPICA')\n",
      "(u'ALTERACION_GEOLOGICA', u'cvd_ALTERACION_GEOLOGICA')\n"
     ]
    }
   ],
   "source": [
    "for field in fields:\n",
    "    if field.domain:\n",
    "        print (field.name, field.domain)"
   ]
  },
  {
   "cell_type": "markdown",
   "metadata": {},
   "source": [
    "(u'MUESTRA', u'cvd_MUESTRA')\n",
    "(u'TIPOFUENTE', u'cvd_TIPOFUENTE')\n",
    "(u'PARAMETROFISICOQUIM', u'cvd_PARAMETROFISICOQUIM')\n",
    "(u'UNIDAD_GEOL', u'cvd_UNIDAD_GEOL')\n",
    "(u'PENDIENTE', u'cvd_PENDIENTE')\n",
    "(u'USO_DE_AGUA', u'cvd_USO_DE_AGUA')\n",
    "(u'BASURALES', u'cvd_BASURALES')\n",
    "(u'ANIMALES', u'cvd_ANIMALES')\n",
    "(u'LETRINAS', u'cvd_LETRINAS')\n",
    "(u'POBLACION', u'cvd_POBLACION')\n",
    "(u'PASIVOAMBIENTAL', u'cvd_PASIVOAMBIENTAL')\n",
    "(u'ACT_ANTROPICA', u'cvd_ACT_ANTROPICA')\n",
    "(u'ALTERACION_GEOLOGICA', u'cvd_ALTERACION_GEOLOGICA')"
   ]
  },
  {
   "cell_type": "code",
   "execution_count": 9,
   "metadata": {},
   "outputs": [],
   "source": [
    "\n",
    "for field in fields:\n",
    "    if field.domain:\n",
    "        arcpy.RemoveDomainFromField_management(fc, field.name)"
   ]
  },
  {
   "cell_type": "code",
   "execution_count": null,
   "metadata": {},
   "outputs": [],
   "source": []
  }
 ],
 "metadata": {
  "kernelspec": {
   "display_name": "Python 2.7.10 32-bit",
   "language": "python",
   "name": "python3"
  },
  "language_info": {
   "codemirror_mode": {
    "name": "ipython",
    "version": 2
   },
   "file_extension": ".py",
   "mimetype": "text/x-python",
   "name": "python",
   "nbconvert_exporter": "python",
   "pygments_lexer": "ipython2",
   "version": "2.7.10"
  },
  "orig_nbformat": 4,
  "vscode": {
   "interpreter": {
    "hash": "ac5cae9ce6d4d1adfa5b64a6642d3ae94a29e8ac602127ee900aed5df438a4d2"
   }
  }
 },
 "nbformat": 4,
 "nbformat_minor": 2
}
